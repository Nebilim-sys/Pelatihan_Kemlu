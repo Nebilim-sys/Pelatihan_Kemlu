{
 "cells": [
  {
   "cell_type": "markdown",
   "id": "4d385191-c153-4fa6-bc4d-3b6672c2a17d",
   "metadata": {},
   "source": [
    "### PELATIHAN KEMLU\n",
    "Tanggal : 2 Oktober 2025 <br>\n",
    "Tempat : Bogor"
   ]
  },
  {
   "cell_type": "code",
   "execution_count": 1,
   "id": "ba34f4e9-1eac-4c2f-8c1a-fa465322c58a",
   "metadata": {},
   "outputs": [
    {
     "name": "stdout",
     "output_type": "stream",
     "text": [
      "ngetes nih bos\n"
     ]
    }
   ],
   "source": [
    "print (\"ngetes nih bos\")"
   ]
  },
  {
   "cell_type": "code",
   "execution_count": 5,
   "id": "871789af-2baf-461b-a5a6-d2ce7114f66a",
   "metadata": {},
   "outputs": [
    {
     "name": "stdin",
     "output_type": "stream",
     "text": [
      "nama saya: yede\n"
     ]
    }
   ],
   "source": [
    "a = input(\"nama saya:\")"
   ]
  },
  {
   "cell_type": "code",
   "execution_count": 6,
   "id": "d7219095-a930-416f-8599-e2048cfc6440",
   "metadata": {},
   "outputs": [
    {
     "name": "stdout",
     "output_type": "stream",
     "text": [
      "halo, nama saya : yede\n"
     ]
    }
   ],
   "source": [
    "print(\"halo, nama saya : {}\".format(a))"
   ]
  },
  {
   "cell_type": "markdown",
   "id": "35d01107-68cb-4ae6-a6cf-898ca712445d",
   "metadata": {},
   "source": [
    "Arithmetics"
   ]
  },
  {
   "cell_type": "code",
   "execution_count": 7,
   "id": "0be13d29-4fbe-4284-b8cd-d8a61dc1fd5f",
   "metadata": {},
   "outputs": [],
   "source": [
    "x = 10\n",
    "y = 5"
   ]
  },
  {
   "cell_type": "code",
   "execution_count": 9,
   "id": "0d9f4ff2-da72-40c7-bc46-eb9f97275355",
   "metadata": {},
   "outputs": [
    {
     "data": {
      "text/plain": [
       "15"
      ]
     },
     "execution_count": 9,
     "metadata": {},
     "output_type": "execute_result"
    }
   ],
   "source": [
    "x + y"
   ]
  },
  {
   "cell_type": "code",
   "execution_count": 10,
   "id": "5d6321be-852c-40d7-8732-82bbc7772480",
   "metadata": {},
   "outputs": [
    {
     "data": {
      "text/plain": [
       "50"
      ]
     },
     "execution_count": 10,
     "metadata": {},
     "output_type": "execute_result"
    }
   ],
   "source": [
    "x*y"
   ]
  },
  {
   "cell_type": "code",
   "execution_count": 11,
   "id": "d862e6ed-fa41-4d31-acf9-f9cf83e89883",
   "metadata": {},
   "outputs": [
    {
     "data": {
      "text/plain": [
       "100000"
      ]
     },
     "execution_count": 11,
     "metadata": {},
     "output_type": "execute_result"
    }
   ],
   "source": [
    "x**y # ** = pangkat"
   ]
  },
  {
   "cell_type": "code",
   "execution_count": 12,
   "id": "1860495d-1d4f-48bf-bb48-1d5c8abb0791",
   "metadata": {},
   "outputs": [
    {
     "data": {
      "text/plain": [
       "1"
      ]
     },
     "execution_count": 12,
     "metadata": {},
     "output_type": "execute_result"
    }
   ],
   "source": [
    "19 % 3 # % = modulus"
   ]
  },
  {
   "cell_type": "code",
   "execution_count": 13,
   "id": "db0c5abf-f238-4a28-aaae-39c45ca68cdc",
   "metadata": {},
   "outputs": [],
   "source": [
    "a = 32\n",
    "b = 5"
   ]
  },
  {
   "cell_type": "code",
   "execution_count": 20,
   "id": "bb2ed9f9-f5b5-4428-85e2-35a1070ba778",
   "metadata": {},
   "outputs": [
    {
     "name": "stdout",
     "output_type": "stream",
     "text": [
      "a dibagi b = 6, sisa = 2\n"
     ]
    }
   ],
   "source": [
    "print(\"a dibagi b = {}, sisa = {}\".format(a//b, a%b))"
   ]
  },
  {
   "cell_type": "code",
   "execution_count": 22,
   "id": "211f11c8-81e1-4fb5-8882-ecd247ae9568",
   "metadata": {},
   "outputs": [],
   "source": [
    "c = a + b"
   ]
  },
  {
   "cell_type": "code",
   "execution_count": 23,
   "id": "32aef657-811f-41d7-9a50-e57de675a253",
   "metadata": {},
   "outputs": [
    {
     "name": "stdout",
     "output_type": "stream",
     "text": [
      "37\n"
     ]
    }
   ],
   "source": [
    "print(\"{}\".format(c))"
   ]
  },
  {
   "cell_type": "markdown",
   "id": "9dbd6f29-b605-4207-90b5-225a3676e475",
   "metadata": {
    "jp-MarkdownHeadingCollapsed": true
   },
   "source": [
    "SELECTION AND REPETITION"
   ]
  },
  {
   "cell_type": "code",
   "execution_count": 24,
   "id": "4492bbf3-b8e2-4b32-b93a-94cac12280f5",
   "metadata": {},
   "outputs": [
    {
     "name": "stdin",
     "output_type": "stream",
     "text": [
      "masukkan umur:  17\n"
     ]
    },
    {
     "name": "stdout",
     "output_type": "stream",
     "text": [
      "remaja\n"
     ]
    }
   ],
   "source": [
    "age = int(input(\"masukkan umur: \"))\n",
    "\n",
    "if age >= 1 and age < 13:\n",
    "    print(\"dibawah umur\")\n",
    "elif age > 13 and age < 20:\n",
    "    print(\"remaja\")\n",
    "else:\n",
    "    print(\"dewasa\")"
   ]
  },
  {
   "cell_type": "code",
   "execution_count": 51,
   "id": "1f5f2390-6aaa-4e70-993c-6208964fd299",
   "metadata": {},
   "outputs": [
    {
     "name": "stdout",
     "output_type": "stream",
     "text": [
      "2\n"
     ]
    }
   ],
   "source": [
    "for n in range (1, 10, 1):\n",
    "    if n == 2 : \n",
    "        print(n)   \n",
    "    \n",
    "    for i in range (1, 10, 1):\n",
    "            \n",
    "        if n % i == 0 & n != 0 :\n",
    "            print(i)"
   ]
  },
  {
   "cell_type": "code",
   "execution_count": 55,
   "id": "ba55d73a-328d-41d6-a691-61fcd7695d29",
   "metadata": {},
   "outputs": [],
   "source": [
    "a = {\n",
    "    \"nama\" : [\"a\", \"b\", \"c\"],\n",
    "    \"usia\" : [15, 19, 30],\n",
    "    \"alamat\" : [\"jakarta\", \"bogor\", \"bandung\"]\n",
    "}\n",
    "              "
   ]
  },
  {
   "cell_type": "code",
   "execution_count": 56,
   "id": "8086df93-eff3-46a6-a193-a3b8f4ce1378",
   "metadata": {},
   "outputs": [
    {
     "data": {
      "text/plain": [
       "dict_keys(['nama', 'usia', 'alamat'])"
      ]
     },
     "execution_count": 56,
     "metadata": {},
     "output_type": "execute_result"
    }
   ],
   "source": [
    "a.keys()"
   ]
  },
  {
   "cell_type": "code",
   "execution_count": 57,
   "id": "5a23361b-170a-4640-9621-39b250533156",
   "metadata": {},
   "outputs": [
    {
     "data": {
      "text/plain": [
       "dict_values([['a', 'b', 'c'], [15, 19, 30], ['jakarta', 'bogor', 'bandung']])"
      ]
     },
     "execution_count": 57,
     "metadata": {},
     "output_type": "execute_result"
    }
   ],
   "source": [
    "a.values()"
   ]
  },
  {
   "cell_type": "code",
   "execution_count": 62,
   "id": "793fdd52-dc79-4059-bb6a-99830ed46464",
   "metadata": {},
   "outputs": [
    {
     "name": "stdout",
     "output_type": "stream",
     "text": [
      "nama\n",
      "- a (tipe data = <class 'str'>)\n",
      "- b (tipe data = <class 'str'>)\n",
      "- c (tipe data = <class 'str'>)\n",
      "usia\n",
      "- 15 (tipe data = <class 'int'>)\n",
      "- 19 (tipe data = <class 'int'>)\n",
      "- 30 (tipe data = <class 'int'>)\n",
      "alamat\n",
      "- jakarta (tipe data = <class 'str'>)\n",
      "- bogor (tipe data = <class 'str'>)\n",
      "- bandung (tipe data = <class 'str'>)\n"
     ]
    }
   ],
   "source": [
    "for i, j in a.items():\n",
    "    print(i)\n",
    "    for k in j:\n",
    "        print(\"- {} (tipe data = {})\".format(k, type(k)))"
   ]
  },
  {
   "cell_type": "markdown",
   "id": "7619d044-e75c-4615-995c-3287c73ca690",
   "metadata": {},
   "source": [
    "FUNCTION"
   ]
  },
  {
   "cell_type": "code",
   "execution_count": 77,
   "id": "fa3457f1-ee69-4ac0-a397-2969cb8ccfa7",
   "metadata": {},
   "outputs": [],
   "source": [
    "b = {\n",
    "    \"nama\" : [\"D\", \"E\", \"F\"],\n",
    "    \"usia\" : [5, 9, 3],\n",
    "    \"alamat\" : [\"BALI\", \"bogor\", \"bandung\"]\n",
    "}\n",
    "              "
   ]
  },
  {
   "cell_type": "code",
   "execution_count": 78,
   "id": "0abf28ae-daee-49bc-93b5-912da4abb966",
   "metadata": {},
   "outputs": [],
   "source": [
    "def ekstrak_data(data):\n",
    "    for i, j in data.items():\n",
    "        print(i)\n",
    "        for k in j:\n",
    "            print(\"- {} (tipe data = {})\".format(k, type(k)))"
   ]
  },
  {
   "cell_type": "code",
   "execution_count": 79,
   "id": "6d914b5b-f6a0-42f0-a788-a6822f24462a",
   "metadata": {},
   "outputs": [
    {
     "name": "stdout",
     "output_type": "stream",
     "text": [
      "nama\n",
      "- D (tipe data = <class 'str'>)\n",
      "- E (tipe data = <class 'str'>)\n",
      "- F (tipe data = <class 'str'>)\n",
      "usia\n",
      "- 5 (tipe data = <class 'int'>)\n",
      "- 9 (tipe data = <class 'int'>)\n",
      "- 3 (tipe data = <class 'int'>)\n",
      "alamat\n",
      "- BALI (tipe data = <class 'str'>)\n",
      "- bogor (tipe data = <class 'str'>)\n",
      "- bandung (tipe data = <class 'str'>)\n"
     ]
    }
   ],
   "source": [
    "ekstrak_data(data = b)"
   ]
  },
  {
   "cell_type": "code",
   "execution_count": 107,
   "id": "0e992567-39d8-4c76-bdea-cdb717f615fe",
   "metadata": {},
   "outputs": [],
   "source": [
    "data_kedutaan = {\n",
    "    \"jepang\" : {\n",
    "        \"nama\" : \"KBRI Tokyo\",\n",
    "        \"alamat\" : \"Tokyo\",\n",
    "        \"jam kerja\" : \"senin - jumat, 9:00 - 17:00\"\n",
    "    },\n",
    "\n",
    "    \"singapura\" : {\n",
    "        \"nama\" : \"KBRI Singapura\",\n",
    "        \"alamat\" : \"Singapura\",\n",
    "        \"jam kerja\" : \"senin - jumat, 9:00 - 18:00\"\n",
    "    }\n",
    "}"
   ]
  },
  {
   "cell_type": "code",
   "execution_count": 108,
   "id": "2e2d3291-d2c1-47c5-a05c-8cf51fff12e7",
   "metadata": {},
   "outputs": [],
   "source": [
    "def cari_kedutaan(negara):\n",
    "    key = negara.lower()\n",
    "    \n",
    "    if key in data_kedutaan:\n",
    "        data = data_kedutaan[key]\n",
    "        print(\"{}\".format(data[\"nama\"].upper()))\n",
    "        print(\"- alamat: {}\".format(data[\"alamat\"]))\n",
    "        print(\"- jam kerja: {}\".format(data[\"jam kerja\"]))\n",
    "\n",
    "    else:\n",
    "        print(\"maaf, data belum tersedia\")"
   ]
  },
  {
   "cell_type": "code",
   "execution_count": 112,
   "id": "1396e6b2-02e6-4510-9db2-3594d825c37c",
   "metadata": {},
   "outputs": [
    {
     "name": "stdout",
     "output_type": "stream",
     "text": [
      "============ SISTEM INFORMASI KEDUTAAN RI ==================\n"
     ]
    },
    {
     "name": "stdin",
     "output_type": "stream",
     "text": [
      "masukkan nama negara:  tes\n"
     ]
    },
    {
     "name": "stdout",
     "output_type": "stream",
     "text": [
      "maaf, data belum tersedia\n"
     ]
    }
   ],
   "source": [
    "def main():\n",
    "    print(\"============ SISTEM INFORMASI KEDUTAAN RI ==================\")\n",
    "\n",
    "    try:\n",
    "        user_input = input(\"masukkan nama negara: \").strip()\n",
    "        if not user_input :\n",
    "            print (\"negara tidak boleh kosong\")\n",
    "        else:\n",
    "            return cari_kedutaan(negara = user_input)\n",
    "\n",
    "\n",
    "    except Exception as e:\n",
    "        print(\"error message: {}\".format(e))\n",
    "        traceback.print_exc()\n",
    "        print(\"exit.\")\n",
    "\n",
    "\n",
    "if __name__ == \"__main__\":\n",
    "    main()"
   ]
  }
 ],
 "metadata": {
  "kernelspec": {
   "display_name": "Python 3 (ipykernel)",
   "language": "python",
   "name": "python3"
  },
  "language_info": {
   "codemirror_mode": {
    "name": "ipython",
    "version": 3
   },
   "file_extension": ".py",
   "mimetype": "text/x-python",
   "name": "python",
   "nbconvert_exporter": "python",
   "pygments_lexer": "ipython3",
   "version": "3.11.9"
  }
 },
 "nbformat": 4,
 "nbformat_minor": 5
}
